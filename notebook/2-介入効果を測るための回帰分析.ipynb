{
 "cells": [
  {
   "cell_type": "markdown",
   "id": "downtown-defense",
   "metadata": {},
   "source": [
    "# 2章 介入効果を測るための回帰分析"
   ]
  },
  {
   "cell_type": "code",
   "execution_count": 1,
   "id": "pleasant-stack",
   "metadata": {},
   "outputs": [
    {
     "name": "stderr",
     "output_type": "stream",
     "text": [
      "/Users/masataka/.pyenv/versions/3.8.5/envs/asteriam-ml/lib/python3.8/site-packages/pandas/compat/__init__.py:97: UserWarning: Could not import the lzma module. Your installed Python is incomplete. Attempting to use lzma compression will result in a RuntimeError.\n",
      "  warnings.warn(msg)\n"
     ]
    }
   ],
   "source": [
    "import pandas as pd\n",
    "import numpy as np\n",
    "import statsmodels.api as sm\n",
    "import statsmodels.formula.api as smf\n",
    "\n",
    "import warnings\n",
    "warnings.filterwarnings('ignore')"
   ]
  },
  {
   "cell_type": "code",
   "execution_count": 21,
   "id": "veterinary-macedonia",
   "metadata": {},
   "outputs": [
    {
     "name": "stdout",
     "output_type": "stream",
     "text": [
      "dataset shape:  (64000, 12)\n",
      "dataset shape:  (42613, 12)\n"
     ]
    },
    {
     "data": {
      "text/html": [
       "<div>\n",
       "<style scoped>\n",
       "    .dataframe tbody tr th:only-of-type {\n",
       "        vertical-align: middle;\n",
       "    }\n",
       "\n",
       "    .dataframe tbody tr th {\n",
       "        vertical-align: top;\n",
       "    }\n",
       "\n",
       "    .dataframe thead th {\n",
       "        text-align: right;\n",
       "    }\n",
       "</style>\n",
       "<table border=\"1\" class=\"dataframe\">\n",
       "  <thead>\n",
       "    <tr style=\"text-align: right;\">\n",
       "      <th></th>\n",
       "      <th>recency</th>\n",
       "      <th>history_segment</th>\n",
       "      <th>history</th>\n",
       "      <th>mens</th>\n",
       "      <th>womens</th>\n",
       "      <th>zip_code</th>\n",
       "      <th>newbie</th>\n",
       "      <th>channel</th>\n",
       "      <th>segment</th>\n",
       "      <th>visit</th>\n",
       "      <th>conversion</th>\n",
       "      <th>spend</th>\n",
       "      <th>treatment</th>\n",
       "    </tr>\n",
       "  </thead>\n",
       "  <tbody>\n",
       "    <tr>\n",
       "      <th>14</th>\n",
       "      <td>4</td>\n",
       "      <td>3) $200 - $350</td>\n",
       "      <td>241.42</td>\n",
       "      <td>0</td>\n",
       "      <td>1</td>\n",
       "      <td>Rural</td>\n",
       "      <td>1</td>\n",
       "      <td>Multichannel</td>\n",
       "      <td>No E-Mail</td>\n",
       "      <td>0</td>\n",
       "      <td>0</td>\n",
       "      <td>0.0</td>\n",
       "      <td>0</td>\n",
       "    </tr>\n",
       "    <tr>\n",
       "      <th>15</th>\n",
       "      <td>3</td>\n",
       "      <td>1) $0 - $100</td>\n",
       "      <td>58.13</td>\n",
       "      <td>1</td>\n",
       "      <td>0</td>\n",
       "      <td>Urban</td>\n",
       "      <td>1</td>\n",
       "      <td>Web</td>\n",
       "      <td>No E-Mail</td>\n",
       "      <td>1</td>\n",
       "      <td>0</td>\n",
       "      <td>0.0</td>\n",
       "      <td>0</td>\n",
       "    </tr>\n",
       "    <tr>\n",
       "      <th>20</th>\n",
       "      <td>9</td>\n",
       "      <td>1) $0 - $100</td>\n",
       "      <td>29.99</td>\n",
       "      <td>0</td>\n",
       "      <td>1</td>\n",
       "      <td>Surburban</td>\n",
       "      <td>1</td>\n",
       "      <td>Phone</td>\n",
       "      <td>No E-Mail</td>\n",
       "      <td>0</td>\n",
       "      <td>0</td>\n",
       "      <td>0.0</td>\n",
       "      <td>0</td>\n",
       "    </tr>\n",
       "    <tr>\n",
       "      <th>23</th>\n",
       "      <td>2</td>\n",
       "      <td>1) $0 - $100</td>\n",
       "      <td>29.99</td>\n",
       "      <td>0</td>\n",
       "      <td>1</td>\n",
       "      <td>Urban</td>\n",
       "      <td>1</td>\n",
       "      <td>Phone</td>\n",
       "      <td>No E-Mail</td>\n",
       "      <td>0</td>\n",
       "      <td>0</td>\n",
       "      <td>0.0</td>\n",
       "      <td>0</td>\n",
       "    </tr>\n",
       "    <tr>\n",
       "      <th>24</th>\n",
       "      <td>4</td>\n",
       "      <td>1) $0 - $100</td>\n",
       "      <td>78.24</td>\n",
       "      <td>1</td>\n",
       "      <td>0</td>\n",
       "      <td>Surburban</td>\n",
       "      <td>0</td>\n",
       "      <td>Web</td>\n",
       "      <td>No E-Mail</td>\n",
       "      <td>0</td>\n",
       "      <td>0</td>\n",
       "      <td>0.0</td>\n",
       "      <td>0</td>\n",
       "    </tr>\n",
       "  </tbody>\n",
       "</table>\n",
       "</div>"
      ],
      "text/plain": [
       "    recency history_segment  history  mens  womens   zip_code  newbie  \\\n",
       "14        4  3) $200 - $350   241.42     0       1      Rural       1   \n",
       "15        3    1) $0 - $100    58.13     1       0      Urban       1   \n",
       "20        9    1) $0 - $100    29.99     0       1  Surburban       1   \n",
       "23        2    1) $0 - $100    29.99     0       1      Urban       1   \n",
       "24        4    1) $0 - $100    78.24     1       0  Surburban       0   \n",
       "\n",
       "         channel    segment  visit  conversion  spend  treatment  \n",
       "14  Multichannel  No E-Mail      0           0    0.0          0  \n",
       "15           Web  No E-Mail      1           0    0.0          0  \n",
       "20         Phone  No E-Mail      0           0    0.0          0  \n",
       "23         Phone  No E-Mail      0           0    0.0          0  \n",
       "24           Web  No E-Mail      0           0    0.0          0  "
      ]
     },
     "execution_count": 21,
     "metadata": {},
     "output_type": "execute_result"
    }
   ],
   "source": [
    "# ECサイトのユーザに対してRCTを適用したメールマーケティングを行ったデータ\n",
    "dataset = 'http://www.minethatdata.com/Kevin_Hillstrom_MineThatData_E-MailAnalytics_DataMiningChallenge_2008.03.20.csv'\n",
    "\n",
    "email_data = pd.read_csv(dataset)\n",
    "print('dataset shape: ', email_data.shape)\n",
    "\n",
    "male_df = email_data[email_data['segment'] != 'Womens E-Mail']\n",
    "print('dataset shape: ', male_df.shape)\n",
    "\n",
    "male_df['treatment'] = male_df['segment'].apply(lambda x: 1 if x == 'Mens E-Mail' else 0)\n",
    "\n",
    "sample_size_rate = 0.5\n",
    "\n",
    "obs_t = male_df[male_df['treatment'] == 1]\n",
    "obs_c = male_df[male_df['treatment'] == 0]\n",
    "\n",
    "# メール配信されていないグループからの該当データを削除\n",
    "obs_c_biased = obs_c.drop(\n",
    "    obs_c[\n",
    "        (obs_c['history'] > 300) | (obs_c['recency'] < 6) | (obs_c['channel'] == 'Multichannel')\n",
    "    ].sample(frac=sample_size_rate, random_state=10).index\n",
    ")\n",
    "\n",
    "# メールが配信されたグループからの該当データを削除\n",
    "obs_t_biased = obs_t.drop(\n",
    "    obs_t[~(\n",
    "        (obs_t['history'] > 300) | (obs_t['recency'] < 6) | (obs_t['channel'] == 'Multichannel')\n",
    "    )].sample(frac=sample_size_rate, random_state=10).index\n",
    ")\n",
    "\n",
    "biased_data = pd.concat([obs_c_biased, obs_t_biased])\n",
    "biased_data.head()"
   ]
  },
  {
   "cell_type": "markdown",
   "id": "voluntary-vacation",
   "metadata": {},
   "source": [
    "## 2.1.5 Rによるメールマーケティングデータの分析（回帰編）"
   ]
  },
  {
   "cell_type": "code",
   "execution_count": 22,
   "id": "external-respondent",
   "metadata": {},
   "outputs": [],
   "source": [
    "biased_reg = smf.ols(\n",
    "    data=biased_data,\n",
    "    formula='spend ~ treatment + history'\n",
    ").fit()"
   ]
  },
  {
   "cell_type": "code",
   "execution_count": 23,
   "id": "charged-drain",
   "metadata": {},
   "outputs": [
    {
     "data": {
      "text/html": [
       "<table class=\"simpletable\">\n",
       "<caption>OLS Regression Results</caption>\n",
       "<tr>\n",
       "  <th>Dep. Variable:</th>          <td>spend</td>      <th>  R-squared:         </th>  <td>   0.001</td>  \n",
       "</tr>\n",
       "<tr>\n",
       "  <th>Model:</th>                   <td>OLS</td>       <th>  Adj. R-squared:    </th>  <td>   0.001</td>  \n",
       "</tr>\n",
       "<tr>\n",
       "  <th>Method:</th>             <td>Least Squares</td>  <th>  F-statistic:       </th>  <td>   20.69</td>  \n",
       "</tr>\n",
       "<tr>\n",
       "  <th>Date:</th>             <td>Sat, 26 Jun 2021</td> <th>  Prob (F-statistic):</th>  <td>1.04e-09</td>  \n",
       "</tr>\n",
       "<tr>\n",
       "  <th>Time:</th>                 <td>22:50:11</td>     <th>  Log-Likelihood:    </th> <td>-1.3305e+05</td>\n",
       "</tr>\n",
       "<tr>\n",
       "  <th>No. Observations:</th>      <td> 31925</td>      <th>  AIC:               </th>  <td>2.661e+05</td> \n",
       "</tr>\n",
       "<tr>\n",
       "  <th>Df Residuals:</th>          <td> 31922</td>      <th>  BIC:               </th>  <td>2.661e+05</td> \n",
       "</tr>\n",
       "<tr>\n",
       "  <th>Df Model:</th>              <td>     2</td>      <th>                     </th>      <td> </td>     \n",
       "</tr>\n",
       "<tr>\n",
       "  <th>Covariance Type:</th>      <td>nonrobust</td>    <th>                     </th>      <td> </td>     \n",
       "</tr>\n",
       "</table>\n",
       "<table class=\"simpletable\">\n",
       "<tr>\n",
       "      <td></td>         <th>coef</th>     <th>std err</th>      <th>t</th>      <th>P>|t|</th>  <th>[0.025</th>    <th>0.975]</th>  \n",
       "</tr>\n",
       "<tr>\n",
       "  <th>Intercept</th> <td>    0.3611</td> <td>    0.146</td> <td>    2.466</td> <td> 0.014</td> <td>    0.074</td> <td>    0.648</td>\n",
       "</tr>\n",
       "<tr>\n",
       "  <th>treatment</th> <td>    0.8768</td> <td>    0.177</td> <td>    4.949</td> <td> 0.000</td> <td>    0.530</td> <td>    1.224</td>\n",
       "</tr>\n",
       "<tr>\n",
       "  <th>history</th>   <td>    0.0012</td> <td>    0.000</td> <td>    3.366</td> <td> 0.001</td> <td>    0.000</td> <td>    0.002</td>\n",
       "</tr>\n",
       "</table>\n",
       "<table class=\"simpletable\">\n",
       "<tr>\n",
       "  <th>Omnibus:</th>       <td>69664.885</td> <th>  Durbin-Watson:     </th>   <td>   1.997</td>   \n",
       "</tr>\n",
       "<tr>\n",
       "  <th>Prob(Omnibus):</th>  <td> 0.000</td>   <th>  Jarque-Bera (JB):  </th> <td>310825433.403</td>\n",
       "</tr>\n",
       "<tr>\n",
       "  <th>Skew:</th>           <td>20.079</td>   <th>  Prob(JB):          </th>   <td>    0.00</td>   \n",
       "</tr>\n",
       "<tr>\n",
       "  <th>Kurtosis:</th>       <td>484.720</td>  <th>  Cond. No.          </th>   <td>    826.</td>   \n",
       "</tr>\n",
       "</table><br/><br/>Notes:<br/>[1] Standard Errors assume that the covariance matrix of the errors is correctly specified."
      ],
      "text/plain": [
       "<class 'statsmodels.iolib.summary.Summary'>\n",
       "\"\"\"\n",
       "                            OLS Regression Results                            \n",
       "==============================================================================\n",
       "Dep. Variable:                  spend   R-squared:                       0.001\n",
       "Model:                            OLS   Adj. R-squared:                  0.001\n",
       "Method:                 Least Squares   F-statistic:                     20.69\n",
       "Date:                Sat, 26 Jun 2021   Prob (F-statistic):           1.04e-09\n",
       "Time:                        22:50:11   Log-Likelihood:            -1.3305e+05\n",
       "No. Observations:               31925   AIC:                         2.661e+05\n",
       "Df Residuals:                   31922   BIC:                         2.661e+05\n",
       "Df Model:                           2                                         \n",
       "Covariance Type:            nonrobust                                         \n",
       "==============================================================================\n",
       "                 coef    std err          t      P>|t|      [0.025      0.975]\n",
       "------------------------------------------------------------------------------\n",
       "Intercept      0.3611      0.146      2.466      0.014       0.074       0.648\n",
       "treatment      0.8768      0.177      4.949      0.000       0.530       1.224\n",
       "history        0.0012      0.000      3.366      0.001       0.000       0.002\n",
       "==============================================================================\n",
       "Omnibus:                    69664.885   Durbin-Watson:                   1.997\n",
       "Prob(Omnibus):                  0.000   Jarque-Bera (JB):        310825433.403\n",
       "Skew:                          20.079   Prob(JB):                         0.00\n",
       "Kurtosis:                     484.720   Cond. No.                         826.\n",
       "==============================================================================\n",
       "\n",
       "Notes:\n",
       "[1] Standard Errors assume that the covariance matrix of the errors is correctly specified.\n",
       "\"\"\""
      ]
     },
     "execution_count": 23,
     "metadata": {},
     "output_type": "execute_result"
    }
   ],
   "source": [
    "biased_reg.summary()"
   ]
  },
  {
   "cell_type": "markdown",
   "id": "boring-documentary",
   "metadata": {},
   "source": [
    "## 2.2.1 共変量の追加による効果への作用"
   ]
  },
  {
   "cell_type": "markdown",
   "id": "descending-jordan",
   "metadata": {},
   "source": [
    "### RCTデータでの単回帰"
   ]
  },
  {
   "cell_type": "code",
   "execution_count": 24,
   "id": "occupational-aberdeen",
   "metadata": {},
   "outputs": [],
   "source": [
    "rct_reg = smf.ols(\n",
    "    data=male_df,\n",
    "    formula='spend ~ treatment'\n",
    ").fit()"
   ]
  },
  {
   "cell_type": "code",
   "execution_count": 25,
   "id": "grand-alpha",
   "metadata": {},
   "outputs": [
    {
     "data": {
      "text/html": [
       "<table class=\"simpletable\">\n",
       "<tr>\n",
       "      <td></td>         <th>coef</th>     <th>std err</th>      <th>t</th>      <th>P>|t|</th>  <th>[0.025</th>    <th>0.975]</th>  \n",
       "</tr>\n",
       "<tr>\n",
       "  <th>Intercept</th> <td>    0.6528</td> <td>    0.103</td> <td>    6.356</td> <td> 0.000</td> <td>    0.451</td> <td>    0.854</td>\n",
       "</tr>\n",
       "<tr>\n",
       "  <th>treatment</th> <td>    0.7698</td> <td>    0.145</td> <td>    5.300</td> <td> 0.000</td> <td>    0.485</td> <td>    1.055</td>\n",
       "</tr>\n",
       "</table>"
      ],
      "text/plain": [
       "<class 'statsmodels.iolib.table.SimpleTable'>"
      ]
     },
     "execution_count": 25,
     "metadata": {},
     "output_type": "execute_result"
    }
   ],
   "source": [
    "rct_reg.summary().tables[1]"
   ]
  },
  {
   "cell_type": "markdown",
   "id": "ceramic-arena",
   "metadata": {},
   "source": [
    "### バイアスのあるデータでの単回帰\n",
    "- セレクションバイアスによる効果が過剰に推定されている"
   ]
  },
  {
   "cell_type": "code",
   "execution_count": 26,
   "id": "recent-addiction",
   "metadata": {},
   "outputs": [],
   "source": [
    "nonrct_reg = smf.ols(\n",
    "    data=biased_data,\n",
    "    formula='spend ~ treatment'\n",
    ").fit()"
   ]
  },
  {
   "cell_type": "code",
   "execution_count": 27,
   "id": "designed-thermal",
   "metadata": {},
   "outputs": [
    {
     "data": {
      "text/html": [
       "<table class=\"simpletable\">\n",
       "<tr>\n",
       "      <td></td>         <th>coef</th>     <th>std err</th>      <th>t</th>      <th>P>|t|</th>  <th>[0.025</th>    <th>0.975]</th>  \n",
       "</tr>\n",
       "<tr>\n",
       "  <th>Intercept</th> <td>    0.5968</td> <td>    0.129</td> <td>    4.640</td> <td> 0.000</td> <td>    0.345</td> <td>    0.849</td>\n",
       "</tr>\n",
       "<tr>\n",
       "  <th>treatment</th> <td>    0.9614</td> <td>    0.175</td> <td>    5.481</td> <td> 0.000</td> <td>    0.618</td> <td>    1.305</td>\n",
       "</tr>\n",
       "</table>"
      ],
      "text/plain": [
       "<class 'statsmodels.iolib.table.SimpleTable'>"
      ]
     },
     "execution_count": 27,
     "metadata": {},
     "output_type": "execute_result"
    }
   ],
   "source": [
    "nonrct_reg.summary().tables[1]"
   ]
  },
  {
   "cell_type": "markdown",
   "id": "respiratory-cosmetic",
   "metadata": {},
   "source": [
    "### バイアスのあるデータでの重回帰\n",
    "- 共変量を追加することで，セレクションバイアスの影響がより少なくなる"
   ]
  },
  {
   "cell_type": "code",
   "execution_count": 28,
   "id": "champion-armstrong",
   "metadata": {},
   "outputs": [],
   "source": [
    "nonrct_mreg = smf.ols(\n",
    "    data=biased_data,\n",
    "    formula='spend ~ treatment + recency + channel + history'\n",
    ").fit()"
   ]
  },
  {
   "cell_type": "code",
   "execution_count": 29,
   "id": "logical-laptop",
   "metadata": {},
   "outputs": [
    {
     "data": {
      "text/html": [
       "<table class=\"simpletable\">\n",
       "<tr>\n",
       "          <td></td>            <th>coef</th>     <th>std err</th>      <th>t</th>      <th>P>|t|</th>  <th>[0.025</th>    <th>0.975]</th>  \n",
       "</tr>\n",
       "<tr>\n",
       "  <th>Intercept</th>        <td>    0.3047</td> <td>    0.383</td> <td>    0.795</td> <td> 0.427</td> <td>   -0.447</td> <td>    1.056</td>\n",
       "</tr>\n",
       "<tr>\n",
       "  <th>channel[T.Phone]</th> <td>    0.1507</td> <td>    0.308</td> <td>    0.489</td> <td> 0.625</td> <td>   -0.453</td> <td>    0.755</td>\n",
       "</tr>\n",
       "<tr>\n",
       "  <th>channel[T.Web]</th>   <td>    0.4123</td> <td>    0.307</td> <td>    1.341</td> <td> 0.180</td> <td>   -0.190</td> <td>    1.015</td>\n",
       "</tr>\n",
       "<tr>\n",
       "  <th>treatment</th>        <td>    0.8383</td> <td>    0.181</td> <td>    4.627</td> <td> 0.000</td> <td>    0.483</td> <td>    1.193</td>\n",
       "</tr>\n",
       "<tr>\n",
       "  <th>recency</th>          <td>   -0.0318</td> <td>    0.026</td> <td>   -1.209</td> <td> 0.227</td> <td>   -0.083</td> <td>    0.020</td>\n",
       "</tr>\n",
       "<tr>\n",
       "  <th>history</th>          <td>    0.0012</td> <td>    0.000</td> <td>    3.154</td> <td> 0.002</td> <td>    0.000</td> <td>    0.002</td>\n",
       "</tr>\n",
       "</table>"
      ],
      "text/plain": [
       "<class 'statsmodels.iolib.table.SimpleTable'>"
      ]
     },
     "execution_count": 29,
     "metadata": {},
     "output_type": "execute_result"
    }
   ],
   "source": [
    "nonrct_mreg.summary().tables[1]"
   ]
  },
  {
   "cell_type": "code",
   "execution_count": null,
   "id": "aggressive-pressing",
   "metadata": {},
   "outputs": [],
   "source": []
  },
  {
   "cell_type": "code",
   "execution_count": null,
   "id": "ordinary-pursuit",
   "metadata": {},
   "outputs": [],
   "source": []
  },
  {
   "cell_type": "code",
   "execution_count": null,
   "id": "injured-messenger",
   "metadata": {},
   "outputs": [],
   "source": []
  }
 ],
 "metadata": {
  "kernelspec": {
   "display_name": "Python 3",
   "language": "python",
   "name": "python3"
  },
  "language_info": {
   "codemirror_mode": {
    "name": "ipython",
    "version": 3
   },
   "file_extension": ".py",
   "mimetype": "text/x-python",
   "name": "python",
   "nbconvert_exporter": "python",
   "pygments_lexer": "ipython3",
   "version": "3.8.5"
  }
 },
 "nbformat": 4,
 "nbformat_minor": 5
}
